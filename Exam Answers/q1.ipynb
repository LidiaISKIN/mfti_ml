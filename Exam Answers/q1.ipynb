{
 "cells": [
  {
   "cell_type": "markdown",
   "metadata": {},
   "source": [
    "# Вопрос 1\n",
    "\n",
    "Методами машинного обучения (нестатистическими тестами) показать, что разбиение на трейн и тест репрезентативно."
   ]
  },
  {
   "cell_type": "markdown",
   "metadata": {},
   "source": [
    "## Ответ\n",
    "\n",
    "Чтобы продемонстрировать, что разбиение данных на обучающую и тестовую выборки отражает общую картину данных, можно использовать следующий подход:\n",
    "\n",
    "1. Обучаем алгоритмическую модель на текущем разделении и оцениваем ее качество на тестовой выборке. Зафиксируем метрику, например, точность.\n",
    "2. Затем произведем несколько разных, независимых разбиений исходного набора данных на трейн и тест (при помощи random seed).\n",
    "3. На каждом новом разбиении снова обучаем ту же модель и оцениваем качество на соответствующем тесте.\n",
    "4. Сравниваем полученные результаты между собой. Если показатели на тестовых выборках при разных разбиениях примерно одинаковы, значит текущее разделение данных, скорее всего, репрезентативно. Иными словами, если при изменении разбиения общая картина не меняется, можно считать, что изначальное разбиение адекватно отражает свойства данных.\n",
    "\n",
    "Это не статистический тест в классическом смысле. Это скорее эмпирическая проверка стабильности модели и качества на разных разбиениях. Если результаты стабильны, значит текущее разбиение не содержит систематических искажений, а значит оно репрезентативно."
   ]
  },
  {
   "cell_type": "code",
   "execution_count": 1,
   "metadata": {},
   "outputs": [],
   "source": [
    "import numpy as np\n",
    "import matplotlib.pyplot as plt\n",
    "from sklearn.datasets import make_classification\n",
    "from sklearn.linear_model import LogisticRegression\n",
    "from sklearn.model_selection import train_test_split\n",
    "from sklearn.metrics import accuracy_score"
   ]
  },
  {
   "cell_type": "markdown",
   "metadata": {},
   "source": [
    "Генерируем синтетику."
   ]
  },
  {
   "cell_type": "code",
   "execution_count": 2,
   "metadata": {},
   "outputs": [],
   "source": [
    "X, y = make_classification(n_samples=2000, n_features=20, n_informative=10, n_redundant=5, random_state=42)"
   ]
  },
  {
   "cell_type": "markdown",
   "metadata": {},
   "source": [
    "Добавляем соль."
   ]
  },
  {
   "cell_type": "code",
   "execution_count": 3,
   "metadata": {},
   "outputs": [],
   "source": [
    "random_states = [0, 10, 20, 30, 40, 50]"
   ]
  },
  {
   "cell_type": "code",
   "execution_count": 4,
   "metadata": {},
   "outputs": [],
   "source": [
    "scores = []\n",
    "\n",
    "for rs in random_states:\n",
    "    X_train, X_test, y_train, y_test = train_test_split(X, y, test_size=0.3, random_state=rs)\n",
    "    model = LogisticRegression(max_iter=1000)\n",
    "    model.fit(X_train, y_train)\n",
    "    y_pred = model.predict(X_test)\n",
    "    acc = accuracy_score(y_test, y_pred)\n",
    "    scores.append(acc)"
   ]
  },
  {
   "cell_type": "code",
   "execution_count": 5,
   "metadata": {},
   "outputs": [
    {
     "name": "stdout",
     "output_type": "stream",
     "text": [
      "Accuracy scores pool: [0.8216666666666667, 0.8583333333333333, 0.8633333333333333, 0.8133333333333334, 0.8433333333333334, 0.855]\n",
      "Mean accuracy: 0.8424999999999999, Standart delta: 0.01882546541650823\n"
     ]
    }
   ],
   "source": [
    "print(f'Accuracy scores pool: {scores}')\n",
    "print(f'Mean accuracy: {np.mean(scores)}, Standart delta: {np.std(scores)}')"
   ]
  },
  {
   "cell_type": "code",
   "execution_count": 6,
   "metadata": {},
   "outputs": [
    {
     "data": {
      "image/png": "[encoded data removed]",
      "text/plain": [
       "<Figure size 600x400 with 1 Axes>"
      ]
     },
     "metadata": {},
     "output_type": "display_data"
    }
   ],
   "source": [
    "plt.figure(figsize=(6,4))\n",
    "plt.boxplot(scores, vert=False, labels=['Accuracy'])\n",
    "plt.title('Распределение точности на разных разбиениях')\n",
    "plt.xlabel('Точность')\n",
    "plt.show()"
   ]
  },
  {
   "cell_type": "markdown",
   "metadata": {},
   "source": [
    "Так как точность на разных разбиениях примерно одинакова (Отклонение `0.01882546541650823`), то вывод: текущее разбиение является репрезентативным, так как модель не чувствительна к конкретному способу разделения."
   ]
  }
 ],
 "metadata": {
  "kernelspec": {
   "display_name": "tf",
   "language": "python",
   "name": "python3"
  },
  "language_info": {
   "codemirror_mode": {
    "name": "ipython",
    "version": 3
   },
   "file_extension": ".py",
   "mimetype": "text/x-python",
   "name": "python",
   "nbconvert_exporter": "python",
   "pygments_lexer": "ipython3",
   "version": "3.9.19"
  }
 },
 "nbformat": 4,
 "nbformat_minor": 2
}
