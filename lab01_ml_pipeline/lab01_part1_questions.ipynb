{
 "cells": [
  {
   "cell_type": "markdown",
   "metadata": {},
   "source": [
    "*Credits: materials from this notebook belong to YSDA [Practical DL](https://github.com/yandexdataschool/Practical_DL) course. Special thanks for making them available online.*"
   ]
  },
  {
   "cell_type": "markdown",
   "metadata": {},
   "source": [
    "# Lab assignment №1, part 1\n",
    "\n",
    "This lab assignment consists of several parts. You are supposed to make some transformations, train some models, estimate the quality of the models and explain your results.\n",
    "\n",
    "Several comments:\n",
    "* Don't hesitate to ask questions, it's a good practice.\n",
    "* No private/public sharing, please. The copied assignments will be graded with 0 points.\n",
    "* Blocks of this lab will be graded separately."
   ]
  },
  {
   "cell_type": "markdown",
   "metadata": {},
   "source": [
    "## 1. Matrix differentiation"
   ]
  },
  {
   "cell_type": "markdown",
   "metadata": {},
   "source": [
    "Since it easy to google every task please please please try to undestand what's going on. The \"just answer\" thing will be not counted, make sure to present derivation of your solution. It is absolutely OK if you found an answer on web then just exercise in $\\LaTeX$ copying it into here."
   ]
  },
  {
   "cell_type": "markdown",
   "metadata": {},
   "source": [
    "Useful links: \n",
    "[1](http://www.machinelearning.ru/wiki/images/2/2a/Matrix-Gauss.pdf)\n",
    "[2](http://www.atmos.washington.edu/~dennis/MatrixCalculus.pdf)"
   ]
  },
  {
   "cell_type": "markdown",
   "metadata": {},
   "source": [
    "## ex. 1"
   ]
  },
  {
   "cell_type": "markdown",
   "metadata": {},
   "source": [
    "$$  \n",
    "y = x^Tx,  \\quad x \\in \\mathbb{R}^N \n",
    "$$"
   ]
  },
  {
   "cell_type": "markdown",
   "metadata": {},
   "source": [
    "$$\n",
    "\\frac{dy}{dx} = \n",
    "$$ "
   ]
  },
  {
   "cell_type": "markdown",
   "metadata": {},
   "source": [
    "## Note\n",
    "\n",
    "Главные использованные источники при решении задач здесь и далее:\n",
    "\n",
    "1. [Матричное дифференцирование](https://education.yandex.ru/handbook/ml/article/matrichnoe-differencirovanie) (ex. 1)\n",
    "2. [Matrix Differentiation](https://www.atmos.washington.edu/~dennis/MatrixCalculus.pdf) (ex. 2, ex. 3)\n",
    "3. [Заметки по матричным вычислениям и нормальному распределению](http://www.machinelearning.ru/wiki/images/2/2a/Matrix-Gauss.pdf) (ex. 4)\n"
   ]
  },
  {
   "cell_type": "markdown",
   "metadata": {},
   "source": [
    "## Solution ex. 1"
   ]
  },
  {
   "cell_type": "markdown",
   "metadata": {},
   "source": [
    "### Что есть $y = x^Tx$\n",
    "\n",
    "Иная запись $(1)$:\n",
    "\n",
    "$$\n",
    "y = \\sum_{i=1}^{N} x_i, \\tag{1}\n",
    "$$\n",
    "\n",
    "Возьмем любой массив/вектор:\n",
    "$[4, 6, 7, ..., n]$ где $n$ - это последнее значение бесконечного размера вектора/матрицы.\n",
    "Его решением будет результат скалярного произведения $(2)$.\n",
    "\n",
    "$$\n",
    "4^4 + 6^6 + 7^7 + ... + n^n, \\tag{2}\n",
    "$$"
   ]
  },
  {
   "cell_type": "code",
   "execution_count": 1,
   "metadata": {},
   "outputs": [],
   "source": [
    "\"\"\"Import some stuff\"\"\"\n",
    "import numpy as np\n",
    "import random"
   ]
  },
  {
   "cell_type": "code",
   "execution_count": 2,
   "metadata": {
    "collapsed": true,
    "jupyter": {
     "outputs_hidden": true
    }
   },
   "outputs": [
    {
     "name": "stdout",
     "output_type": "stream",
     "text": [
      "\n",
      "Input: \n",
      "[0.64514199 0.98594097 0.92259443 0.79156694 0.63843611 0.52053747\n",
      " 0.86079408]\n",
      "\n",
      "scale multip. \n",
      "5.841007666264538\n",
      "\n"
     ]
    }
   ],
   "source": [
    "def return_scale_mult(array: np.array) -> np.array:\n",
    "    return np.sum(array ** array)\n",
    "\n",
    "\n",
    "arr = np.random.rand(random.randint(3,10))\n",
    "y = return_scale_mult(array=arr)\n",
    "print(f'''\n",
    "Input: \\n{arr}\n",
    "\n",
    "scale multip. \\n{y}\n",
    "''')"
   ]
  },
  {
   "cell_type": "markdown",
   "metadata": {},
   "source": [
    "## Производная скалярного произведения.\n",
    "\n",
    "Для нахождения производной из (1) необходимо:\n",
    "\n",
    "### Дифференцирование по $x$\n",
    "\n",
    "Дифференцировать $y$ по каждой компоненте $x_i$ $(3)$:\n",
    "\n",
    "$$\n",
    "\\frac{d(x^2_i)}{dx_i} = 2x_i, \\tag{3}\n",
    "$$ \n",
    "\n",
    "После чего свенуть производную. Т.к. $y$ - сумма квадратов всех $x_i$, то $y$ по $x$ - вектор, который равен $2x_i$, следовательно (4):\n",
    "\n",
    "$$\n",
    "\\frac{dy}{dx} = 2x, \\tag{4}\n",
    "$$"
   ]
  },
  {
   "cell_type": "code",
   "execution_count": 3,
   "metadata": {},
   "outputs": [
    {
     "name": "stdout",
     "output_type": "stream",
     "text": [
      "Result: \n",
      "[1.29028398 1.97188193 1.84518885 1.58313388 1.27687222 1.04107495\n",
      " 1.72158817]\n"
     ]
    }
   ],
   "source": [
    "dy_dx = 2 * arr\n",
    "print(f'Result: \\n{dy_dx}')"
   ]
  },
  {
   "cell_type": "markdown",
   "metadata": {},
   "source": [
    "## ex. 2"
   ]
  },
  {
   "cell_type": "markdown",
   "metadata": {},
   "source": [
    "$$ y = tr(AB) \\quad A,B \\in \\mathbb{R}^{N \\times N}, \\tag{5}$$"
   ]
  },
  {
   "cell_type": "markdown",
   "metadata": {},
   "source": [
    "$$\n",
    "\\frac{dy}{dA} =\n",
    "$$"
   ]
  },
  {
   "cell_type": "markdown",
   "metadata": {},
   "source": [
    "## Solution ex. 2"
   ]
  },
  {
   "cell_type": "markdown",
   "metadata": {},
   "source": [
    "### Постановка задачи\n",
    "$A$ и $B$ — квадратные матрицы размерности $N×N$, а $tr(⋅)$ обозначает след матрицы. Нужно найти производную функции $y$ по матрице $A$."
   ]
  },
  {
   "cell_type": "markdown",
   "metadata": {},
   "source": [
    "### Объяснение следа\n",
    "Для поиска следа гипотетической матрицы $K$, необходимо просуммировать ее диагональные элементы $(6)$:\n",
    "\n",
    "$$\n",
    "tr(K) = \\sum_{i=1}^{N} K_{ii}, \\tag{6}\n",
    "$$\n",
    "\n",
    "Следовательно, для $(5)$ запись будет как $(7)$:\n",
    "\n",
    "$$\n",
    "y = tr(AB) = \\sum_{i=1}^{N} (AB)_{ii}, \\tag{7}\n",
    "$$\n",
    "\n",
    "следовательно:\n",
    "\n",
    "$$\n",
    "(AB)_{ii} = \\sum_{i=1}^{N} A_{ij} B_{ji}.\n",
    "$$\n",
    "\n",
    "где:\n",
    "\n",
    "- $A_{ij}$​ - элемент матрицы $A$, находящийся в $i$-й строке и $j$-м столбце.\n",
    "- $B_{ji}$ - элемент матрицы $B$, находящийся в $j$-й строке и $i$-м столбце.\n"
   ]
  },
  {
   "cell_type": "markdown",
   "metadata": {},
   "source": [
    "### Дифференцирование\n",
    "Для доказательства дифференциирования матриц $A$ и $B$ размерности $N×N$ на $A$, необходимо вывести его на основе единичного элемента $A_{mn}$, где $m$ и $n$ - индексы единичного элемента $(8)$.  \n",
    "\n",
    "$$\n",
    "\\frac{\\partial y}{\\partial A_{mn}} = \\frac{\\partial}{\\partial A_{mn}} \\sum_{i=1}^{N} \\sum_{j=1}^{N} A_{ij} B_{ji}, \\tag{8}\n",
    "$$\n",
    "\n",
    "Но в $(8)$ производная будет ненулевой только в случае, когда индексы $i$ и $j$ совпадают с $m$ и $n$ соответственно. Это связано с тем, что производная выражения $A_{ij}$​ по $A_{mn}$​ равна единице, если $i = m$ и $j = n$, и равна нулю в противном случае. Следовательно, останется только один ненулевой член:\n",
    "\n",
    "$$\n",
    "\\frac{\\partial y}{\\partial A_{mn}} = B_{mn}.\n",
    "$$\n",
    "\n",
    "Однако, если перевести запись в матричный вид, то:\n",
    "\n",
    "$$\n",
    "\\frac{dy}{dA} = tr(AB) = B^T. \\tag{9}\n",
    "$$"
   ]
  },
  {
   "cell_type": "code",
   "execution_count": 4,
   "metadata": {
    "collapsed": true,
    "jupyter": {
     "outputs_hidden": true
    }
   },
   "outputs": [
    {
     "name": "stdout",
     "output_type": "stream",
     "text": [
      "\n",
      "A:\n",
      "[[0.25539077 0.15742136]\n",
      " [0.69599578 0.21634555]]\n",
      "\n",
      "B:\n",
      "[[0.48767236 0.22148339]\n",
      " [0.33895028 0.33803896]]\n",
      "\n",
      "dy/dA:\n",
      "[[0.48767236 0.33895028]\n",
      " [0.22148339 0.33803896]]\n",
      "\n"
     ]
    }
   ],
   "source": [
    "def mat_size(size: int) -> np.array:\n",
    "    return np.random.rand(size, size), np.random.rand(size, size)\n",
    "\n",
    "A, B = mat_size(random.randint(1, 4))\n",
    "dy_dA = B.T\n",
    "\n",
    "print(f'''\n",
    "A:\\n{A}\n",
    "\n",
    "B:\\n{B}\n",
    "\n",
    "dy/dA:\\n{dy_dA}\n",
    "''')"
   ]
  },
  {
   "cell_type": "markdown",
   "metadata": {},
   "source": [
    "## ex. 3"
   ]
  },
  {
   "cell_type": "markdown",
   "metadata": {},
   "source": [
    "$$  \n",
    "y = x^TAc , \\quad A\\in \\mathbb{R}^{N \\times N}, x\\in \\mathbb{R}^{N}, c\\in \\mathbb{R}^{N} \n",
    "$$"
   ]
  },
  {
   "cell_type": "markdown",
   "metadata": {},
   "source": [
    "$$\n",
    "\\frac{dy}{dx} =\n",
    "$$"
   ]
  },
  {
   "cell_type": "markdown",
   "metadata": {},
   "source": [
    "$$\n",
    "\\frac{dy}{dA} =\n",
    "$$ "
   ]
  },
  {
   "cell_type": "markdown",
   "metadata": {},
   "source": [
    "Hint for the latter (one of the ways): use *ex. 2* result and the fact \n",
    "$$\n",
    "tr(ABC) = tr (CAB)\n",
    "$$"
   ]
  },
  {
   "cell_type": "markdown",
   "metadata": {},
   "source": [
    "## Solution ex. 3"
   ]
  },
  {
   "cell_type": "markdown",
   "metadata": {},
   "source": [
    "### Дифференцирование $dy$ по $dx$\n",
    "\n",
    "Решение поставленной задачи аналогично $(3)$ и $(4)$, за исключением момента, в котором одним из множителей является матрица $A$ размером $N \\times N$, из за которой приходится учитывать элементы матрицы, а также незначительно меняется подсчет. Это вносит следующие коррективы $(10)$:\n",
    "\n",
    "$$\n",
    "y = \\sum_{i=1}^{N} \\sum_{j=1}^{N} x_i A_{ij} c_j. \\tag{10}\n",
    "$$\n",
    "\n",
    "Следовательно:\n",
    "\n",
    "$$\n",
    "\\frac{\\partial y}{\\partial x_i} = \\sum_{j=1}^{N} A_{ij} c_j.\n",
    "$$\n",
    "\n",
    "В итоге: \n",
    "\n",
    "$$\n",
    "\\frac{\\partial y}{\\partial x} = Ac\n",
    "$$"
   ]
  },
  {
   "cell_type": "code",
   "execution_count": 5,
   "metadata": {
    "collapsed": true,
    "jupyter": {
     "outputs_hidden": true
    }
   },
   "outputs": [
    {
     "name": "stdout",
     "output_type": "stream",
     "text": [
      "\n",
      "A: \n",
      "[[0.65729127 0.56384117 0.12997272]\n",
      " [0.51292982 0.23894533 0.53669777]\n",
      " [0.6293818  0.25310716 0.65176484]]\n",
      "\n",
      "x: \n",
      "[0.20636985 0.60869604 0.24449667]\n",
      "\n",
      "c: \n",
      "[0.89821006 0.07202195 0.83925326]\n",
      "\n",
      "dy_dx: \n",
      "[0.7400746  0.92835338 1.1305421 ]\n",
      "\n"
     ]
    }
   ],
   "source": [
    "size = random.randint(3, 6)\n",
    "A = np.random.rand(size, size)\n",
    "x = np.random.rand(size)\n",
    "c = np.random.rand(size)\n",
    "\n",
    "dy_dx = np.dot(A, c)\n",
    "print(f'''\n",
    "A: \\n{A}\n",
    "\n",
    "x: \\n{x}\n",
    "\n",
    "c: \\n{c}\n",
    "\n",
    "dy_dx: \\n{dy_dx}\n",
    "''')"
   ]
  },
  {
   "cell_type": "markdown",
   "metadata": {},
   "source": [
    "### Дифференцирование $dy$ по $dA$\n",
    "\n",
    "Аналогично результату, выведенному в формуле $(9)$, а также используя подсказку в представленной задаче, меняем исходную запись $y$:\n",
    "\n",
    "$$\n",
    "y = tr(x^TAc) = tr(cx^TA),\n",
    "$$\n",
    "\n",
    "и дифференциируем $(12)$ ее по примеру $(11)$:\n",
    "\n",
    "$$\n",
    "\\frac{\\partial tr(CAB)}{\\partial A} = C^TB, \\tag{11}\n",
    "$$\n",
    "\n",
    "$$\n",
    "\\frac{\\partial y}{\\partial A} = cx^T. \\tag{12}\n",
    "$$"
   ]
  },
  {
   "cell_type": "code",
   "execution_count": 6,
   "metadata": {},
   "outputs": [
    {
     "name": "stdout",
     "output_type": "stream",
     "text": [
      "dy_dA: \n",
      "[[0.18536348 0.54673691 0.21960937]\n",
      " [0.01486316 0.04383947 0.01760913]\n",
      " [0.17319657 0.51085014 0.20519463]]\n"
     ]
    }
   ],
   "source": [
    "dy_dA = np.outer(c, x)\n",
    "print(f'dy_dA: \\n{dy_dA}')"
   ]
  },
  {
   "cell_type": "markdown",
   "metadata": {},
   "source": [
    "## ex. 4"
   ]
  },
  {
   "cell_type": "markdown",
   "metadata": {},
   "source": [
    "Classic matrix factorization example. Given matrix $X$ you need to find $A$, $S$ to approximate $X$. This can be done by simple gradient descent iteratively alternating $A$ and $S$ updates.\n",
    "$$\n",
    "J = || X - AS ||_F^2  , \\quad A\\in \\mathbb{R}^{N \\times R} , \\quad S\\in \\mathbb{R}^{R \\times M}\n",
    "$$\n",
    "$$\n",
    "\\frac{dJ}{dS} = ? \n",
    "$$\n",
    "\n",
    "You may use one of the following approaches:"
   ]
  },
  {
   "cell_type": "markdown",
   "metadata": {},
   "source": [
    "#### First approach\n",
    "Using ex.2 and the fact:\n",
    "$$\n",
    "|| X ||_F^2 = tr(XX^T) \n",
    "$$ \n",
    "it is easy to derive gradients (you can find it in one of the refs). "
   ]
  },
  {
   "cell_type": "markdown",
   "metadata": {},
   "source": [
    "## Solution ex. 4 (?)\n",
    "\n",
    "Для решения был выбран первый подход.\n",
    "\n",
    "Исходя из подсказки, данной в описании первого подхода, можно провести следующие манипуляции:\n",
    "\n",
    "$$\n",
    "J = \\| X - AS \\|_F^2 = tr((X - AS)(X -AS)^T),\n",
    "$$\n",
    "\n",
    "после чего раскрыть ([3], Таблица 1):\n",
    "\n",
    "$$\n",
    "J = tr(XX^T - X S^T A^T - AS X^T + AS S^T A^T). \\tag{13}\n",
    "$$\n",
    "\n",
    "После чего раскроем каждое слагаемое из $(13)$:\n",
    "1. $XX^T$ - не меняется. \n",
    "2. $X(AS)^T = XS^TA^T$, т.к. $(AS)^T = S^TA^T$.\n",
    "3. $(AS)X^T$ также остается.\n",
    "4. $(AS)(AS)^T = ASS^TA^T$.\n",
    "\n",
    "По итогу:\n",
    "\n",
    "$$\n",
    "J = tr(XX^T) - tr(XS^TA^T) - tr(ASX^T) + tr(ASS^TA^T). \\tag{14}\n",
    "$$\n",
    "\n",
    "Пользуясь формулой, полученной в упр. 2, продифференциируем каждое слагаемое:\n",
    "\n",
    "1. $\\frac{\\partial tr(XX^T)}{\\partial S} = 0$ \n",
    "2. $\\frac{\\partial (-tr(XS^TA^T))}{\\partial S} = -A^TX$\n",
    "3. $\\frac{\\partial (-tr(ASX^T))}{\\partial S} = -A^TX$\n",
    "4. $\\frac{\\partial tr(ASS^TA^T)}{\\partial S} = 2A^TAS$.\n",
    "\n",
    "В результате запись выглядит следующим образом:\n",
    "\n",
    "$$\n",
    "\\frac{\\partial J}{\\partial S} = -A^T X - A^T X + 2A^T AS = 2A^T (AS - X).\n",
    "$$\n",
    "\n",
    "Ее градиент:\n",
    "\n",
    "$$\n",
    "\\frac{\\partial J}{\\partial S} = -2A^T(X - AS)\n",
    "$$"
   ]
  },
  {
   "cell_type": "code",
   "execution_count": 7,
   "metadata": {},
   "outputs": [
    {
     "name": "stdout",
     "output_type": "stream",
     "text": [
      "\n",
      "X:\n",
      "[[0.70120623 0.77332063 0.47932253 0.36194875 0.10909032]\n",
      " [0.72280075 0.6164541  0.6259612  0.93065619 0.22898743]\n",
      " [0.2042812  0.69614209 0.85735684 0.93925356 0.24032138]\n",
      " [0.72764046 0.65336886 0.59934091 0.45780274 0.55264992]]\n",
      "\n",
      "A:\n",
      "[[0.39647189 0.09604869 0.81460578]\n",
      " [0.41334904 0.58566941 0.6179349 ]\n",
      " [0.98459272 0.29563747 0.08140604]\n",
      " [0.26390372 0.18425322 0.71724159]]\n",
      "\n",
      "S:\n",
      "[[0.81014071 0.78180252 0.03585262 0.96101219 0.32720406]\n",
      " [0.45828195 0.61474614 0.18746731 0.44162875 0.19391965]\n",
      " [0.00721205 0.32256334 0.88175529 0.1938108  0.62720321]]\n",
      "\n",
      "Gradient S (dJ/dS):\n",
      "[[ 0.85561828  0.60820684 -1.07659691  0.35620026  1.1578448 ]\n",
      " [ 0.07677227  0.4132286  -0.27937078 -0.04282786  0.70248457]\n",
      " [-1.16982759 -0.00286893  0.49305491  0.21399981  1.4585082 ]]\n",
      "\n"
     ]
    }
   ],
   "source": [
    "N = random.randint(2, 6)\n",
    "R = random.randint(1, 8)\n",
    "M = random.randint(5, 6)\n",
    "\n",
    "X = np.random.rand(N, M)\n",
    "A = np.random.rand(N, R)\n",
    "S = np.random.rand(R, M)\n",
    "\n",
    "grad_S = -2 * np.dot(A.T, (X - np.dot(A, S)))\n",
    "\n",
    "print(f'''\n",
    "X:\\n{X}\n",
    "\n",
    "A:\\n{A}\n",
    "\n",
    "S:\\n{S}\n",
    "\n",
    "Gradient S (dJ/dS):\\n{grad_S}\n",
    "''')"
   ]
  },
  {
   "cell_type": "markdown",
   "metadata": {
    "collapsed": true,
    "jupyter": {
     "outputs_hidden": true
    }
   },
   "source": [
    "## 2. kNN questions\n",
    "Here come the questions from the assignment0_01. Please, refer to the assignment0_01 to get the context of the questions."
   ]
  },
  {
   "cell_type": "markdown",
   "metadata": {},
   "source": [
    "### Question 1\n",
    "\n",
    "Notice the structured patterns in the distance matrix, where some rows or columns are visible brighter. (Note that with the default color scheme black indicates low distances while white indicates high distances.)\n",
    "\n",
    "- What in the data is the cause behind the distinctly bright rows?\n",
    "- What causes the columns?\n",
    "\n",
    "*Your Answer:*\n",
    "\n",
    "Разница в колонках и столбцах при использовании \"матрицы расстояний\" заключена лишь в том, с какой стороны представлены презентуемые данные. Например, при задаче сравнения обучающих и тестовых данных для обучения алгоритмической модели машинного обучения (в данном случае - K-NN), с помощью нее можно сравнить сходство между признаками. Яркие ячейки в данной матрице будут означать одно из двух:\n",
    "\n",
    "1. Шум в данных/выброс относительно признаков.\n",
    "2. Дисбаланс классов.\n",
    "\n",
    "Рассмотрение представленных данных с точки зрения колонок/столбцов зависит от подгрузки в матрицу определенных наборов в ось $X$ или $Y$.\n",
    "\n",
    "Однако, [судя по всему](https://boostedml.com/2018/12/solutions-to-stanfords-cs-231n-assignments-1-inline-problems-knn.html), здесь должна была быть картинка, которая отсутствует в [репозитории](https://github.com/girafe-ai/ml-course/tree/23f_basic/homeworks/lab01_ml_pipeline) на момент написания.\n",
    "\n",
    "UPD:\n",
    "Изображение генерится в hw01_knn, скорректированный ответ.\n",
    "\n",
    "1. Полосы по строкам и столбцам могут указывать на выброс, аномалии или шумы.\n",
    "2. По представленному изображению можно сделать вывод, что танные состоят из паттернов, т.е. в них присутствуют группы с большими различиями. Темные точки - близки, а светлые - далеки.\n"
   ]
  },
  {
   "cell_type": "markdown",
   "metadata": {},
   "source": [
    "### Question 2\n",
    "\n",
    "We can also use other distance metrics such as L1 distance.\n",
    "For pixel values $p_{ij}^{(k)}$ at location $(i,j)$ of some image $I_k$, \n",
    "\n",
    "the mean $\\mu$ across all pixels over all images is $$\\mu=\\frac{1}{nhw}\\sum_{k=1}^n\\sum_{i=1}^{h}\\sum_{j=1}^{w}p_{ij}^{(k)}$$\n",
    "And the pixel-wise mean $\\mu_{ij}$ across all images is \n",
    "$$\\mu_{ij}=\\frac{1}{n}\\sum_{k=1}^np_{ij}^{(k)}.$$\n",
    "The general standard deviation $\\sigma$ and pixel-wise standard deviation $\\sigma_{ij}$ is defined similarly.\n",
    "\n",
    "Which of the following preprocessing steps will not change the performance of a Nearest Neighbor classifier that uses L1 distance? Select all that apply.\n",
    "1. Subtracting the mean $\\mu$ ($\\tilde{p}_{ij}^{(k)}=p_{ij}^{(k)}-\\mu$.)\n",
    "2. Subtracting the per pixel mean $\\mu_{ij}$  ($\\tilde{p}_{ij}^{(k)}=p_{ij}^{(k)}-\\mu_{ij}$.)\n",
    "3. Subtracting the mean $\\mu$ and dividing by the standard deviation $\\sigma$.\n",
    "4. Subtracting the pixel-wise mean $\\mu_{ij}$ and dividing by the pixel-wise standard deviation $\\sigma_{ij}$.\n",
    "5. Rotating the coordinate axes of the data.\n",
    "\n",
    "*Your Answer:* 1, 2\n",
    "\n",
    "*Your Explanation:*\n",
    "\n",
    "1. вычитание одинакового значения из всех элементов векторов расстояние L1 между ними останется неизменным, так как сдвиг на постоянное значение не влияет на разницу модулей.\n",
    "2. вычитание среднего значения для каждого пикселя не изменит расстояние L1 между векторами, поскольку это эквивалентно применению сдвига на постоянное значение для каждого пикселя по всем изображениям.\n",
    "3. масштабирование влияет на значение L1 расстояния, так как изменяются относительные различия между пикселями.\n",
    "4. масштабирование по каждому пикселю также изменяет относительные различия, что повлияет на значение L1 расстояния.\n",
    "5. поворот данных изменит взаимное расположение точек, что приведет к изменению расстояний между ними."
   ]
  },
  {
   "cell_type": "markdown",
   "metadata": {},
   "source": [
    "## Question 3\n",
    "\n",
    "Which of the following statements about $k$-Nearest Neighbor ($k$-NN) are true in a classification setting, and for all $k$? Select all that apply.\n",
    "1. The decision boundary (hyperplane between classes in feature space) of the k-NN classifier is linear.\n",
    "2. The training error of a 1-NN will always be lower than that of 5-NN.\n",
    "3. The test error of a 1-NN will always be lower than that of a 5-NN.\n",
    "4. The time needed to classify a test example with the k-NN classifier grows with the size of the training set.\n",
    "5. None of the above.\n",
    "\n",
    "*Your Answer:* 2, 4\n",
    "\n",
    "\n",
    "*Your Explanation:*\n",
    "\n",
    "1. Решающие границы у k-NN являются нелинейными. Они зависят от расположения точек обучающей выборки, и граница может быть произвольной формы в зависимости от плотности и расположения данных.\n",
    "2. Если k = 1, ближаий сосед для каждого примера будет сам этот пример. Ошибка нулевая. Если k = 5, соседние примеры могут принадлежать другому классу, что может привести к ошибкам.\n",
    "3. При 1 есть вероятность оверфиттинга, что, возможно, приведет к более высокой ошибке на тестах при сравнении с 5. При 5 будет лучшее обобщение данных, что снизит ошибку.\n",
    "4. При большем размере датасета тратится больше времени на расчет расстояния точки до ближайших точек.\n"
   ]
  }
 ],
 "metadata": {
  "kernelspec": {
   "display_name": "tf",
   "language": "python",
   "name": "python3"
  },
  "language_info": {
   "codemirror_mode": {
    "name": "ipython",
    "version": 3
   },
   "file_extension": ".py",
   "mimetype": "text/x-python",
   "name": "python",
   "nbconvert_exporter": "python",
   "pygments_lexer": "ipython3",
   "version": "3.9.19"
  }
 },
 "nbformat": 4,
 "nbformat_minor": 4
}
